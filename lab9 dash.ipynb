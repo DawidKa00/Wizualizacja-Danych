{
 "cells": [
  {
   "metadata": {},
   "cell_type": "markdown",
   "source": [
    "### Zadanie 1: Przygotowanie danych i podstawowa wizualizacja\n",
    "Wygeneruj dane lub użyj dostępnej biblioteki (np. plotly.data).\n",
    "Na podstawie tych danych stwórz aplikację Dash z jednym wykresem, który wyświetla:\n",
    "gdpPercap (na osi Y) dla wybranych kontynentów (np. Azja, Ameryka) \\\n",
    "Elementy dodatkowe:\n",
    "* dcc.Dropdown do wyboru kontynentu\n",
    "* dcc.Graph do wyświetlenia wykresu"
   ],
   "id": "3cbe22d50c975519"
  },
  {
   "cell_type": "code",
   "id": "initial_id",
   "metadata": {
    "collapsed": true,
    "ExecuteTime": {
     "end_time": "2025-05-29T07:59:31.557189Z",
     "start_time": "2025-05-29T07:59:30.607011Z"
    }
   },
   "source": [
    "import dash\n",
    "from dash import dcc, html\n",
    "from dash.dependencies import Input, Output\n",
    "import plotly.express as px\n",
    "\n",
    "df = px.data.gapminder()\n",
    "\n",
    "continents = df['continent'].unique()\n",
    "\n",
    "app = dash.Dash(__name__)\n",
    "\n",
    "app.layout = html.Div([\n",
    "    html.H1(\"Wzrost PKB per capita wg kontynentu\"),\n",
    "    dcc.Dropdown(\n",
    "        id='continent-dropdown',\n",
    "        options=[{'label': k, 'value': k} for k in continents],\n",
    "        value='Asia',\n",
    "        clearable=False\n",
    "    ),\n",
    "    dcc.Graph(id='gdp-plot')\n",
    "])\n",
    "\n",
    "@app.callback(\n",
    "    Output('gdp-plot', 'figure'),\n",
    "    Input('continent-dropdown', 'value')\n",
    ")\n",
    "def update_figure(chosen_continent):\n",
    "    df_filtered = df[df['continent'] == chosen_continent]\n",
    "    fig = px.line(df_filtered,\n",
    "                  x='year',\n",
    "                  y='gdpPercap',\n",
    "                  color='country',\n",
    "                  title=f'PKB per capita w {chosen_continent}')\n",
    "    return fig\n",
    "\n",
    "\n",
    "# Uruchom aplikację\n",
    "if __name__ == '__main__':\n",
    "    app.run(debug=True)"
   ],
   "outputs": [
    {
     "data": {
      "text/plain": [
       "<IPython.lib.display.IFrame at 0x167aaba7770>"
      ],
      "text/html": [
       "\n",
       "        <iframe\n",
       "            width=\"100%\"\n",
       "            height=\"650\"\n",
       "            src=\"http://127.0.0.1:8050/\"\n",
       "            frameborder=\"0\"\n",
       "            allowfullscreen\n",
       "            \n",
       "        ></iframe>\n",
       "        "
      ]
     },
     "metadata": {},
     "output_type": "display_data"
    }
   ],
   "execution_count": 3
  },
  {
   "metadata": {},
   "cell_type": "markdown",
   "source": [
    "## Zadanie 2: Interaktywność — filtracja danych\n",
    "Dodaj dodatkowe filtry:\n",
    "* Suwak (dcc.Slider) do wyboru zakresu lat\n",
    "* Dropdown do wyboru kraju lub kontynentu\n",
    "\n",
    "Wykorzystaj callbacky, aby po zmianie filtrów automatycznie odświeżał się wykres.\n",
    "Dodaj funkcję, która:\n",
    "* Filtruje dane na podstawie wyboru\n",
    "* Tworzy wykres słupkowy lub liniowy"
   ],
   "id": "7d6a918113fecf84"
  },
  {
   "metadata": {
    "ExecuteTime": {
     "end_time": "2025-05-29T07:59:45.846458Z",
     "start_time": "2025-05-29T07:59:45.543327Z"
    }
   },
   "cell_type": "code",
   "source": [
    "import dash\n",
    "from dash import dcc, html\n",
    "from dash.dependencies import Input, Output\n",
    "import plotly.express as px\n",
    "import pandas as pd\n",
    "\n",
    "df = px.data.gapminder()\n",
    "years = sorted(df['year'].unique())\n",
    "continents = df['continent'].unique()\n",
    "countries = df['country'].unique()\n",
    "\n",
    "app = dash.Dash(__name__)\n",
    "\n",
    "app.layout = html.Div([\n",
    "    html.H2(\"PKB per capita — interaktywna wizualizacja\"),\n",
    "\n",
    "    html.Label(\"Wybierz kontynent lub kraj:\"),\n",
    "    dcc.Dropdown(\n",
    "        id='region-dropdown',\n",
    "        options=(\n",
    "            [{'label': f\"[Kontynent] {k}\", 'value': k} for k in continents] +\n",
    "            [{'label': f\"[Kraj] {k}\", 'value': k} for k in countries]\n",
    "        ),\n",
    "        value='Asia',\n",
    "        clearable=False\n",
    "    ),\n",
    "\n",
    "    html.Label(\"Wybierz rok:\"),\n",
    "    dcc.RangeSlider(\n",
    "        id='rok-rangeslider',\n",
    "        min=min(years),\n",
    "        max=max(years),\n",
    "        value=[min(years), max(years)],\n",
    "        marks={int(year): str(year) for year in years},\n",
    "        step=None\n",
    "    ),\n",
    "\n",
    "    html.Label(\"Typ wykresu:\"),\n",
    "    dcc.Dropdown(\n",
    "        id='plot-type',\n",
    "        options=[\n",
    "            {'label': 'Wykres liniowy', 'value': 'line'},\n",
    "            {'label': 'Wykres słupkowy', 'value': 'bar'}\n",
    "        ],\n",
    "        value='line',\n",
    "        clearable=False\n",
    "    ),\n",
    "\n",
    "    dcc.Graph(id='pkb-plot')\n",
    "])\n",
    "\n",
    "@app.callback(\n",
    "    Output('pkb-plot', 'figure'),\n",
    "    Input('region-dropdown', 'value'),\n",
    "    Input('rok-rangeslider', 'value'),\n",
    "    Input('plot-type', 'value')\n",
    ")\n",
    "def update_figure(chosen, year_range, plot_type):\n",
    "    year_start, year_end = year_range\n",
    "\n",
    "    if chosen in continents:\n",
    "        dff = df[(df['continent'] == chosen) &\n",
    "                 (df['year'] >= year_start) &\n",
    "                 (df['year'] <= year_end)]\n",
    "        title = f'PKB per capita — {chosen}, lata {year_start}–{year_end}'\n",
    "        color = 'country'\n",
    "    else:\n",
    "        dff = df[(df['country'] == chosen) &\n",
    "                 (df['year'] >= year_start) &\n",
    "                 (df['year'] <= year_end)]\n",
    "        title = f'PKB per capita — {chosen}, lata {year_start}–{year_end}'\n",
    "        color = None\n",
    "\n",
    "    if plot_type == 'line':\n",
    "        fig = px.line(dff, x='year', y='gdpPercap', color=color, title=title)\n",
    "    else:\n",
    "        fig = px.bar(dff, x='year' if color is None else 'country',\n",
    "                     y='gdpPercap', color=color, title=title)\n",
    "\n",
    "    return fig\n",
    "\n",
    "if __name__ == '__main__':\n",
    "    app.run(debug=True)\n"
   ],
   "id": "b22ac2847543d9bb",
   "outputs": [
    {
     "data": {
      "text/plain": [
       "<IPython.lib.display.IFrame at 0x167aada38f0>"
      ],
      "text/html": [
       "\n",
       "        <iframe\n",
       "            width=\"100%\"\n",
       "            height=\"650\"\n",
       "            src=\"http://127.0.0.1:8050/\"\n",
       "            frameborder=\"0\"\n",
       "            allowfullscreen\n",
       "            \n",
       "        ></iframe>\n",
       "        "
      ]
     },
     "metadata": {},
     "output_type": "display_data"
    }
   ],
   "execution_count": 4
  },
  {
   "metadata": {},
   "cell_type": "markdown",
   "source": [
    "\n",
    "## Zadanie 3: Rozbudowa dashboardu — wiele wykresów i elementów interaktywnych\n",
    "\n",
    "Dodaj dwa wykresy:\n",
    "* Jeden pokazujący PKB (gdpPercap) w zależności od roku\n",
    "* Drugi pokazujący długość życia (lifeExp)\n",
    "\n",
    "Dodaj filtry:\n",
    "* Dropdown do wyboru kontynentu\n",
    "* Suwak lat\n",
    "* Użyj callbacków, które będą aktualizować oba wykresy jednocześnie w zależności od wybranych filtrów"
   ],
   "id": "e1a62527206dda98"
  },
  {
   "metadata": {
    "ExecuteTime": {
     "end_time": "2025-05-29T08:01:41.345685Z",
     "start_time": "2025-05-29T08:01:40.800541Z"
    }
   },
   "cell_type": "code",
   "source": [
    "import dash\n",
    "from dash import dcc, html\n",
    "from dash.dependencies import Input, Output\n",
    "import plotly.express as px\n",
    "\n",
    "# Load dataset\n",
    "df = px.data.gapminder()\n",
    "continents = df['continent'].unique()\n",
    "years = sorted(df['year'].unique())\n",
    "\n",
    "# Init app\n",
    "app = dash.Dash(__name__)\n",
    "\n",
    "# Layout\n",
    "app.layout = html.Div([\n",
    "    html.H2(\"GDP per Capita and Life Expectancy Over Time\"),\n",
    "\n",
    "    html.Label(\"Select Continent:\"),\n",
    "    dcc.Dropdown(\n",
    "        id='continent-dropdown',\n",
    "        options=[{'label': c, 'value': c} for c in continents],\n",
    "        value='Europe',\n",
    "        clearable=False\n",
    "    ),\n",
    "\n",
    "    html.Label(\"Select Year Range:\"),\n",
    "    dcc.RangeSlider(\n",
    "        id='year-slider',\n",
    "        min=min(years),\n",
    "        max=max(years),\n",
    "        value=[min(years), max(years)],\n",
    "        marks={int(year): str(year) for year in years},\n",
    "        step=None\n",
    "    ),\n",
    "\n",
    "    html.Div([\n",
    "        dcc.Graph(id='gdp-graph'),\n",
    "        dcc.Graph(id='lifeexp-graph')\n",
    "    ])\n",
    "])\n",
    "\n",
    "# Callback\n",
    "@app.callback(\n",
    "    Output('gdp-graph', 'figure'),\n",
    "    Output('lifeexp-graph', 'figure'),\n",
    "    Input('continent-dropdown', 'value'),\n",
    "    Input('year-slider', 'value')\n",
    ")\n",
    "def update_graphs(selected_continent, selected_years):\n",
    "    start_year, end_year = selected_years\n",
    "\n",
    "    filtered_df = df[\n",
    "        (df['continent'] == selected_continent) &\n",
    "        (df['year'] >= start_year) &\n",
    "        (df['year'] <= end_year)\n",
    "    ]\n",
    "\n",
    "    gdp_fig = px.line(\n",
    "        filtered_df, x='year', y='gdpPercap', color='country',\n",
    "        title=f'GDP per Capita in {selected_continent} ({start_year}–{end_year})'\n",
    "    )\n",
    "\n",
    "    lifeexp_fig = px.line(\n",
    "        filtered_df, x='year', y='lifeExp', color='country',\n",
    "        title=f'Life Expectancy in {selected_continent} ({start_year}–{end_year})'\n",
    "    )\n",
    "\n",
    "    return gdp_fig, lifeexp_fig\n",
    "\n",
    "# Run server\n",
    "if __name__ == '__main__':\n",
    "    app.run(debug=True)\n"
   ],
   "id": "ece8eb637d5b11de",
   "outputs": [
    {
     "data": {
      "text/plain": [
       "<IPython.lib.display.IFrame at 0x167ab0aa1e0>"
      ],
      "text/html": [
       "\n",
       "        <iframe\n",
       "            width=\"100%\"\n",
       "            height=\"650\"\n",
       "            src=\"http://127.0.0.1:8050/\"\n",
       "            frameborder=\"0\"\n",
       "            allowfullscreen\n",
       "            \n",
       "        ></iframe>\n",
       "        "
      ]
     },
     "metadata": {},
     "output_type": "display_data"
    }
   ],
   "execution_count": 6
  },
  {
   "metadata": {},
   "cell_type": "markdown",
   "source": [
    "\n",
    "## Zadanie 4: Wizualizacja własnych danych / API\n",
    "\n",
    "Przygotuj własny plik CSV lub API zwracające przykładowe dane (np. lista sprzedaży, statystyki\n",
    "sportowe, wyniki ankiet)\n",
    "* Załaduj dane do Dash przy starcie aplikacji\n",
    "* Wyświetl tabelę danych (dash_table.DataTable) oraz wykres słupkowy"
   ],
   "id": "46a91dc5bf232bf6"
  },
  {
   "metadata": {
    "ExecuteTime": {
     "end_time": "2025-05-29T08:01:46.896045Z",
     "start_time": "2025-05-29T08:01:45.773643Z"
    }
   },
   "cell_type": "code",
   "source": [
    "import os\n",
    "import json\n",
    "import kaggle\n",
    "\n",
    "with open('kaggle.json', 'r') as f:\n",
    "    kaggle_creds = json.load(f)\n",
    "\n",
    "os.environ['KAGGLE_USERNAME'] = kaggle_creds['username']\n",
    "os.environ['KAGGLE_KEY'] = kaggle_creds['key']\n",
    "\n",
    "\n",
    "kaggle.api.authenticate()\n",
    "kaggle.api.dataset_download_files('jayaantanaath/student-habits-vs-academic-performance', path='C:\\\\Users\\\\dawid\\\\PycharmProjects\\\\WizualizacjaDanych\\\\data', unzip=True)\n"
   ],
   "id": "65ae711538c55344",
   "outputs": [
    {
     "ename": "OSError",
     "evalue": "Could not find kaggle.json. Make sure it's located in C:\\Users\\dawid\\.kaggle. Or use the environment method. See setup instructions at https://github.com/Kaggle/kaggle-api/",
     "output_type": "error",
     "traceback": [
      "\u001B[1;31m---------------------------------------------------------------------------\u001B[0m",
      "\u001B[1;31mOSError\u001B[0m                                   Traceback (most recent call last)",
      "Cell \u001B[1;32mIn[7], line 3\u001B[0m\n\u001B[0;32m      1\u001B[0m \u001B[38;5;28;01mimport\u001B[39;00m\u001B[38;5;250m \u001B[39m\u001B[38;5;21;01mos\u001B[39;00m\n\u001B[0;32m      2\u001B[0m \u001B[38;5;28;01mimport\u001B[39;00m\u001B[38;5;250m \u001B[39m\u001B[38;5;21;01mjson\u001B[39;00m\n\u001B[1;32m----> 3\u001B[0m \u001B[38;5;28;01mimport\u001B[39;00m\u001B[38;5;250m \u001B[39m\u001B[38;5;21;01mkaggle\u001B[39;00m\n\u001B[0;32m      5\u001B[0m \u001B[38;5;28;01mwith\u001B[39;00m \u001B[38;5;28mopen\u001B[39m(\u001B[38;5;124m'\u001B[39m\u001B[38;5;124mkaggle.json\u001B[39m\u001B[38;5;124m'\u001B[39m, \u001B[38;5;124m'\u001B[39m\u001B[38;5;124mr\u001B[39m\u001B[38;5;124m'\u001B[39m) \u001B[38;5;28;01mas\u001B[39;00m f:\n\u001B[0;32m      6\u001B[0m     kaggle_creds \u001B[38;5;241m=\u001B[39m json\u001B[38;5;241m.\u001B[39mload(f)\n",
      "File \u001B[1;32m~\\PycharmProjects\\WizualizacjaDanych\\.venv\\Lib\\site-packages\\kaggle\\__init__.py:6\u001B[0m\n\u001B[0;32m      3\u001B[0m \u001B[38;5;28;01mfrom\u001B[39;00m\u001B[38;5;250m \u001B[39m\u001B[38;5;21;01mkaggle\u001B[39;00m\u001B[38;5;21;01m.\u001B[39;00m\u001B[38;5;21;01mapi\u001B[39;00m\u001B[38;5;21;01m.\u001B[39;00m\u001B[38;5;21;01mkaggle_api_extended\u001B[39;00m\u001B[38;5;250m \u001B[39m\u001B[38;5;28;01mimport\u001B[39;00m KaggleApi\n\u001B[0;32m      5\u001B[0m api \u001B[38;5;241m=\u001B[39m KaggleApi()\n\u001B[1;32m----> 6\u001B[0m \u001B[43mapi\u001B[49m\u001B[38;5;241;43m.\u001B[39;49m\u001B[43mauthenticate\u001B[49m\u001B[43m(\u001B[49m\u001B[43m)\u001B[49m\n",
      "File \u001B[1;32m~\\PycharmProjects\\WizualizacjaDanych\\.venv\\Lib\\site-packages\\kaggle\\api\\kaggle_api_extended.py:434\u001B[0m, in \u001B[0;36mKaggleApi.authenticate\u001B[1;34m(self)\u001B[0m\n\u001B[0;32m    432\u001B[0m     \u001B[38;5;28;01mreturn\u001B[39;00m\n\u001B[0;32m    433\u001B[0m   \u001B[38;5;28;01melse\u001B[39;00m:\n\u001B[1;32m--> 434\u001B[0m     \u001B[38;5;28;01mraise\u001B[39;00m \u001B[38;5;167;01mIOError\u001B[39;00m(\u001B[38;5;124m'\u001B[39m\u001B[38;5;124mCould not find \u001B[39m\u001B[38;5;132;01m{}\u001B[39;00m\u001B[38;5;124m. Make sure it\u001B[39m\u001B[38;5;130;01m\\'\u001B[39;00m\u001B[38;5;124ms located in\u001B[39m\u001B[38;5;124m'\u001B[39m\n\u001B[0;32m    435\u001B[0m                   \u001B[38;5;124m'\u001B[39m\u001B[38;5;124m \u001B[39m\u001B[38;5;132;01m{}\u001B[39;00m\u001B[38;5;124m. Or use the environment method. See setup\u001B[39m\u001B[38;5;124m'\u001B[39m\n\u001B[0;32m    436\u001B[0m                   \u001B[38;5;124m'\u001B[39m\u001B[38;5;124m instructions at\u001B[39m\u001B[38;5;124m'\u001B[39m\n\u001B[0;32m    437\u001B[0m                   \u001B[38;5;124m'\u001B[39m\u001B[38;5;124m https://github.com/Kaggle/kaggle-api/\u001B[39m\u001B[38;5;124m'\u001B[39m\u001B[38;5;241m.\u001B[39mformat(\n\u001B[0;32m    438\u001B[0m                       \u001B[38;5;28mself\u001B[39m\u001B[38;5;241m.\u001B[39mconfig_file, \u001B[38;5;28mself\u001B[39m\u001B[38;5;241m.\u001B[39mconfig_dir))\n\u001B[0;32m    440\u001B[0m \u001B[38;5;66;03m# Step 3: load into configuration!\u001B[39;00m\n\u001B[0;32m    441\u001B[0m \u001B[38;5;28mself\u001B[39m\u001B[38;5;241m.\u001B[39m_load_config(config_data)\n",
      "\u001B[1;31mOSError\u001B[0m: Could not find kaggle.json. Make sure it's located in C:\\Users\\dawid\\.kaggle. Or use the environment method. See setup instructions at https://github.com/Kaggle/kaggle-api/"
     ]
    }
   ],
   "execution_count": 7
  },
  {
   "metadata": {
    "ExecuteTime": {
     "end_time": "2025-05-15T09:06:21.620214Z",
     "start_time": "2025-05-15T09:06:21.214861Z"
    }
   },
   "cell_type": "code",
   "source": [
    "import dash\n",
    "from dash import html, dcc, dash_table\n",
    "import pandas as pd\n",
    "import plotly.express as px\n",
    "\n",
    "df = pd.read_csv(\"data/student_habits_performance.csv\")\n",
    "\n",
    "app = dash.Dash(__name__)\n",
    "\n",
    "app.layout = html.Div([\n",
    "    html.H2(\"Student Habits vs Academic Performance\"),\n",
    "\n",
    "    html.Label(\"Filter by Gender:\"),\n",
    "    dcc.Dropdown(\n",
    "        id='gender-filter',\n",
    "        options=[{\"label\": g, \"value\": g} for g in df[\"gender\"].unique()],\n",
    "        value=None,\n",
    "        placeholder=\"Select gender (optional)\",\n",
    "        clearable=True\n",
    "    ),\n",
    "\n",
    "    html.Br(),\n",
    "    dash_table.DataTable(\n",
    "        id='data-table',\n",
    "        columns=[{\"name\": i, \"id\": i} for i in df.columns],\n",
    "        data=df.to_dict('records'),\n",
    "        page_size=10,\n",
    "        style_table={'overflowX': 'auto'}\n",
    "    ),\n",
    "\n",
    "    html.Br(),\n",
    "    dcc.Graph(id='bar-graph')\n",
    "])\n",
    "\n",
    "@app.callback(\n",
    "    [dash.dependencies.Output('data-table', 'data'),\n",
    "     dash.dependencies.Output('bar-graph', 'figure')],\n",
    "    [dash.dependencies.Input('gender-filter', 'value')]\n",
    ")\n",
    "def update_output(selected_gender):\n",
    "    dff = df.copy()\n",
    "    if selected_gender:\n",
    "        dff = dff[dff['gender'] == selected_gender]\n",
    "\n",
    "    fig = px.bar(\n",
    "        dff,\n",
    "        x='study_hours_per_day',\n",
    "        y='exam_score',\n",
    "        color='gender',\n",
    "        title='Exam Score vs Study Hours',\n",
    "        labels={'study_hours_per_day': 'Study Hours per Day', 'exam_score': 'Exam Score'}\n",
    "    )\n",
    "\n",
    "    return dff.to_dict('records'), fig\n",
    "\n",
    "if __name__ == '__main__':\n",
    "    app.run(debug=True)\n"
   ],
   "id": "1cecab9b31d600d9",
   "outputs": [
    {
     "data": {
      "text/plain": [
       "<IPython.lib.display.IFrame at 0x267b7ddd7c0>"
      ],
      "text/html": [
       "\n",
       "        <iframe\n",
       "            width=\"100%\"\n",
       "            height=\"650\"\n",
       "            src=\"http://127.0.0.1:8050/\"\n",
       "            frameborder=\"0\"\n",
       "            allowfullscreen\n",
       "            \n",
       "        ></iframe>\n",
       "        "
      ]
     },
     "metadata": {},
     "output_type": "display_data"
    }
   ],
   "execution_count": 37
  },
  {
   "metadata": {},
   "cell_type": "markdown",
   "source": [
    "\n",
    "## Zadanie 5: Aktualizacja danych i odświeżanie w czasie rzeczywistym\n",
    "\n",
    "Dodaj komponent dcc.Interval, który co 1-2 sekundy będzie generować nowe dane (np. losowe wartości lub pobierać z API). \\\n",
    "Callback na podstawie tego interwału będzie odświeżał wykres lub licznik."
   ],
   "id": "7b43debc1c160058"
  },
  {
   "metadata": {
    "ExecuteTime": {
     "end_time": "2025-05-15T09:06:22.742744Z",
     "start_time": "2025-05-15T09:06:22.535450Z"
    }
   },
   "cell_type": "code",
   "source": [
    "import dash\n",
    "from dash import dcc, html\n",
    "from dash.dependencies import Input, Output\n",
    "import pandas as pd\n",
    "import random\n",
    "import datetime\n",
    "\n",
    "app = dash.Dash(__name__)\n",
    "\n",
    "data = pd.DataFrame(columns=[\"time\", \"value\"])\n",
    "\n",
    "app.layout = html.Div([\n",
    "    html.H2(\"Wykres aktualizowany w czasie rzeczywistym\"),\n",
    "\n",
    "    dcc.Graph(id='live-graph'),\n",
    "\n",
    "    dcc.Interval(\n",
    "        id='interval-component',\n",
    "        interval=1000,\n",
    "        n_intervals=0\n",
    "    )\n",
    "])\n",
    "\n",
    "\n",
    "@app.callback(\n",
    "    Output('live-graph', 'figure'),\n",
    "    Input('interval-component', 'n_intervals')\n",
    ")\n",
    "def update_graph(n):\n",
    "    global data\n",
    "\n",
    "    now = datetime.datetime.now().strftime(\"%H:%M:%S\")\n",
    "    new_value = random.randint(0, 100)\n",
    "\n",
    "    if len(data) == 0 or data.iloc[-1]['time'] != now:\n",
    "        new_row = pd.DataFrame({\"time\": [now], \"value\": [new_value]})\n",
    "        data = pd.concat([data, new_row], ignore_index=True)\n",
    "\n",
    "    data = data.tail(20)\n",
    "\n",
    "    fig = px.line(data, x=\"time\", y=\"value\", title=\"Losowe dane w czasie rzeczywistym\")\n",
    "    fig.update_layout(uirevision=True)\n",
    "\n",
    "    return fig\n",
    "\n",
    "\n",
    "if __name__ == '__main__':\n",
    "    app.run(debug=True)\n"
   ],
   "id": "6033b935d7b500dc",
   "outputs": [
    {
     "data": {
      "text/plain": [
       "<IPython.lib.display.IFrame at 0x267ba1bfd40>"
      ],
      "text/html": [
       "\n",
       "        <iframe\n",
       "            width=\"100%\"\n",
       "            height=\"650\"\n",
       "            src=\"http://127.0.0.1:8050/\"\n",
       "            frameborder=\"0\"\n",
       "            allowfullscreen\n",
       "            \n",
       "        ></iframe>\n",
       "        "
      ]
     },
     "metadata": {},
     "output_type": "display_data"
    }
   ],
   "execution_count": 39
  },
  {
   "metadata": {},
   "cell_type": "markdown",
   "source": [
    "\n",
    "## Zadanie 6: Ekspozycja na dużą ilość danych – wydajność i limitacje (60 min)\n",
    "\n",
    "* Utwórz dużą próbkę danych (np. 100 000 punktów)\n",
    "* Wyświetl je na wykresie\n",
    "* Spróbuj zoptymalizować: podziel dane na segmenty, użyć agregacji, lub ogranicz liczbę punktów (np. tylko co 10)"
   ],
   "id": "bd0b8396f5868a9a"
  },
  {
   "metadata": {
    "ExecuteTime": {
     "end_time": "2025-05-15T09:20:49.432765Z",
     "start_time": "2025-05-15T09:20:48.989638Z"
    }
   },
   "cell_type": "code",
   "source": [
    "import dash\n",
    "from dash import dcc, html\n",
    "from dash.dependencies import Input, Output\n",
    "import pandas as pd\n",
    "import numpy as np\n",
    "\n",
    "np.random.seed(42)\n",
    "df = pd.DataFrame({\n",
    "    \"x\": np.arange(100_000),\n",
    "    \"y\": np.random.normal(loc=0, scale=1, size=100_000)\n",
    "})\n",
    "\n",
    "app = dash.Dash(__name__)\n",
    "\n",
    "app.layout = html.Div([\n",
    "    html.H2(\"Wykres dla dużej ilości danych (100 000 punktów)\"),\n",
    "\n",
    "    html.Label(\"Krok filtrowania (im większy, tym mniej punktów):\"),\n",
    "    dcc.Slider(\n",
    "        id='step-slider',\n",
    "        min=1,\n",
    "        max=100,\n",
    "        value=10,\n",
    "        marks={1: '1', 10: '10', 50: '50', 100: '100'},\n",
    "        step=1\n",
    "    ),\n",
    "\n",
    "    dcc.Graph(id='big-data-graph')\n",
    "])\n",
    "\n",
    "@app.callback(\n",
    "    Output('big-data-graph', 'figure'),\n",
    "    Input('step-slider', 'value')\n",
    ")\n",
    "def update_graph(step):\n",
    "    # Filtrowanie co N-tego punktu dla optymalizacji\n",
    "    filtered_df = df.iloc[::step]\n",
    "    fig = px.line(filtered_df, x=\"x\", y=\"y\", title=f\"Co {step}-ty punkt z 100 000\")\n",
    "    fig.update_layout(uirevision=True)\n",
    "    return fig\n",
    "\n",
    "if __name__ == '__main__':\n",
    "    app.run(debug=True)\n"
   ],
   "id": "51a6d53d35e31637",
   "outputs": [
    {
     "data": {
      "text/plain": [
       "<IPython.lib.display.IFrame at 0x267b9c4e540>"
      ],
      "text/html": [
       "\n",
       "        <iframe\n",
       "            width=\"100%\"\n",
       "            height=\"650\"\n",
       "            src=\"http://127.0.0.1:8050/\"\n",
       "            frameborder=\"0\"\n",
       "            allowfullscreen\n",
       "            \n",
       "        ></iframe>\n",
       "        "
      ]
     },
     "metadata": {},
     "output_type": "display_data"
    }
   ],
   "execution_count": 46
  },
  {
   "metadata": {},
   "cell_type": "markdown",
   "source": [
    "\n",
    "### Zadanie 7: Export i podzielenie danych do PDF, PNG\n",
    "\n",
    "Dodaj funkcję, która po kliknięciu przycisku zapisze aktualny wykres do pliku PNG lub PDF."
   ],
   "id": "ff48224ce30aa822"
  },
  {
   "metadata": {
    "ExecuteTime": {
     "end_time": "2025-05-29T07:59:18.829154Z",
     "start_time": "2025-05-29T07:59:18.459521Z"
    }
   },
   "cell_type": "code",
   "source": [
    "import dash\n",
    "from dash import dcc, html\n",
    "from dash.dependencies import Input, Output\n",
    "import plotly.express as px\n",
    "import plotly.io as pio\n",
    "from datetime import datetime\n",
    "\n",
    "app = dash.Dash(__name__)\n",
    "\n",
    "app.layout = html.Div([\n",
    "    html.H2(\"Wykres z możliwością eksportu\"),\n",
    "\n",
    "    dcc.Graph(id='export-graph'),\n",
    "\n",
    "    html.Div([\n",
    "        dcc.Dropdown(\n",
    "            id='export-format',\n",
    "            options=[\n",
    "                {'label': 'PNG', 'value': 'png'},\n",
    "                {'label': 'PDF', 'value': 'pdf'}\n",
    "            ],\n",
    "            value='png',\n",
    "            style={'width': '100px', 'display': 'inline-block', 'marginRight': '10px'}\n",
    "        ),\n",
    "        html.Button('Export', id='export-button', n_clicks=0)\n",
    "    ]),\n",
    "\n",
    "    dcc.Download(id='download-plot')\n",
    "])\n",
    "\n",
    "\n",
    "@app.callback(\n",
    "    Output('export-graph', 'figure')\n",
    ")\n",
    "def update_graph():\n",
    "    fig = np.sin(1)\n",
    "    return fig\n",
    "\n",
    "\n",
    "@app.callback(\n",
    "    Output('download-plot', 'data'),\n",
    "    Input('export-button', 'n_clicks'),\n",
    "    Input('export-format', 'value'),\n",
    "    Input('export-graph', 'figure'),\n",
    "    prevent_initial_call=True\n",
    ")\n",
    "def export_plot(n_clicks, format_type, figure):\n",
    "    if n_clicks > 0:\n",
    "        timestamp = datetime.now().strftime(\"%Y%m%d_%H%M%S\")\n",
    "        filename = f\"plot_{timestamp}.{format_type}\"\n",
    "        return dict(content=pio.to_image(figure, format=format_type), filename=filename)\n",
    "    return None\n",
    "\n",
    "\n",
    "if __name__ == '__main__':\n",
    "    app.run(debug=True)"
   ],
   "id": "694a314869aeb0d7",
   "outputs": [
    {
     "data": {
      "text/plain": [
       "<IPython.lib.display.IFrame at 0x167a8e67680>"
      ],
      "text/html": [
       "\n",
       "        <iframe\n",
       "            width=\"100%\"\n",
       "            height=\"650\"\n",
       "            src=\"http://127.0.0.1:8050/\"\n",
       "            frameborder=\"0\"\n",
       "            allowfullscreen\n",
       "            \n",
       "        ></iframe>\n",
       "        "
      ]
     },
     "metadata": {},
     "output_type": "display_data"
    }
   ],
   "execution_count": 2
  }
 ],
 "metadata": {
  "kernelspec": {
   "display_name": "Python 3",
   "language": "python",
   "name": "python3"
  },
  "language_info": {
   "codemirror_mode": {
    "name": "ipython",
    "version": 2
   },
   "file_extension": ".py",
   "mimetype": "text/x-python",
   "name": "python",
   "nbconvert_exporter": "python",
   "pygments_lexer": "ipython2",
   "version": "2.7.6"
  }
 },
 "nbformat": 4,
 "nbformat_minor": 5
}
