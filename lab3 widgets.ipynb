{
 "cells": [
  {
   "cell_type": "code",
   "execution_count": 1,
   "metadata": {
    "ExecuteTime": {
     "end_time": "2025-03-20T09:15:50.680346Z",
     "start_time": "2025-03-20T09:15:50.305567Z"
    },
    "editable": true,
    "slideshow": {
     "slide_type": ""
    },
    "tags": []
   },
   "outputs": [],
   "source": [
    "%matplotlib widget\n",
    "import ipywidgets as widgets\n",
    "import matplotlib.pyplot as plt\n",
    "import numpy as np"
   ]
  },
  {
   "cell_type": "markdown",
   "metadata": {},
   "source": [
    "# Interact\n",
    "Widgets can be created directly, or through the `interact` function. We explore `interact` first, as it is a convenient for quick use. `interact` takes a function as its first argument, followed by the function arguments with their possible values. This creates a widgets that allows selecting those values, calling the callback with the current value for every selection. This may sound a bit abstract, but an example will hopefully clear it up. \n",
    "\n",
    "The `say_my_name` function, below, prints the text 'my name is {name}'. We pass `say_my_name` into `interact`, together with a list of names. This creates a dropdown filled with the names in the list. Every time we pick a name, `say_my_name` is called with the currently selected name and the printed message gets updated."
   ]
  },
  {
   "cell_type": "code",
   "execution_count": 2,
   "metadata": {
    "ExecuteTime": {
     "end_time": "2025-03-20T09:15:26.911840Z",
     "start_time": "2025-03-20T09:15:26.834737Z"
    }
   },
   "outputs": [
    {
     "data": {
      "application/vnd.jupyter.widget-view+json": {
       "model_id": "0e7a40adfdfb404786897a6ce6d525f8",
       "version_major": 2,
       "version_minor": 0
      },
      "text/plain": [
       "interactive(children=(Dropdown(description='name', options=('Jim', 'Emma', 'Bond'), value='Jim'), Output()), _…"
      ]
     },
     "metadata": {},
     "output_type": "display_data"
    }
   ],
   "source": [
    "def say_my_name(name):\n",
    "    \"\"\"\n",
    "    Print the current widget value in short sentence\n",
    "    \"\"\"\n",
    "    print(f'My name is {name}')\n",
    "    \n",
    "widgets.interact(say_my_name, name=[\"Jim\", \"Emma\", \"Bond\"]);"
   ]
  },
  {
   "cell_type": "markdown",
   "metadata": {},
   "source": [
    "You might wonder how `interact` decided to create a dropdown list. It turns out this choice is based on the input options. In the example above these were given as a list of values, resulting in a dropdown list. \n",
    "\n",
    "We could also create a slider by passing a tuple of the form (start, stop, step), where the values are numerical. If all values are integers this creates an IntSlider, if floats are present (no surprise) a FloatSlider. Alternatively we could construct a checkbox by simply passing a boolean (i.e. True or False). \n",
    "\n",
    "The next cell shows this behaviour by reusing a single function with different input options to  create different kinds of widgets."
   ]
  },
  {
   "cell_type": "code",
   "execution_count": 3,
   "metadata": {
    "ExecuteTime": {
     "end_time": "2025-03-20T09:15:43.011989300Z",
     "start_time": "2025-03-20T09:15:29.030555Z"
    },
    "jupyter": {
     "is_executing": true
    }
   },
   "outputs": [
    {
     "data": {
      "application/vnd.jupyter.widget-view+json": {
       "model_id": "59cd14595df94a5b871c44159ddbf12d",
       "version_major": 2,
       "version_minor": 0
      },
      "text/plain": [
       "interactive(children=(Dropdown(description='x', options=(0, 1, 2, 3), value=0), Output()), _dom_classes=('widg…"
      ]
     },
     "metadata": {},
     "output_type": "display_data"
    },
    {
     "data": {
      "application/vnd.jupyter.widget-view+json": {
       "model_id": "209352c2c5e24ff3965507ae4ea9548f",
       "version_major": 2,
       "version_minor": 0
      },
      "text/plain": [
       "interactive(children=(IntSlider(value=5, description='x', max=10), Output()), _dom_classes=('widget-interact',…"
      ]
     },
     "metadata": {},
     "output_type": "display_data"
    },
    {
     "data": {
      "application/vnd.jupyter.widget-view+json": {
       "model_id": "f0e6b83359be46e28f45f45661163593",
       "version_major": 2,
       "version_minor": 0
      },
      "text/plain": [
       "interactive(children=(FloatSlider(value=5.0, description='x', max=10.0, step=0.5), Output()), _dom_classes=('w…"
      ]
     },
     "metadata": {},
     "output_type": "display_data"
    },
    {
     "data": {
      "application/vnd.jupyter.widget-view+json": {
       "model_id": "d587fa1480524a479dc215eeeb81d4eb",
       "version_major": 2,
       "version_minor": 0
      },
      "text/plain": [
       "interactive(children=(Checkbox(value=True, description='x'), Output()), _dom_classes=('widget-interact',))"
      ]
     },
     "metadata": {},
     "output_type": "display_data"
    }
   ],
   "source": [
    "def say_something(x):\n",
    "    \"\"\"\n",
    "    Print the current widget value in short sentence\n",
    "    \"\"\"\n",
    "    print(f'Widget says: {x}')\n",
    "\n",
    "widgets.interact(say_something, x=[0, 1, 2, 3])\n",
    "widgets.interact(say_something, x=(0, 10, 1))\n",
    "widgets.interact(say_something, x=(0, 10, .5))\n",
    "_ = widgets.interact(say_something, x=True)"
   ]
  },
  {
   "cell_type": "markdown",
   "metadata": {},
   "source": [
    "`interact` is not limited to single argument functions. We can pass multiple arguments to create multiple widgets, following the same rules as above. Below, we use a `three` function with three arguments to create three different widgets. Whenever one of the values is changed `three` is called with the current values of the three widgets as its arguments."
   ]
  },
  {
   "cell_type": "code",
   "execution_count": 4,
   "metadata": {
    "ExecuteTime": {
     "end_time": "2025-03-20T09:15:54.494192Z",
     "start_time": "2025-03-20T09:15:54.466442Z"
    }
   },
   "outputs": [
    {
     "data": {
      "application/vnd.jupyter.widget-view+json": {
       "model_id": "bd5aafc87b15499caa49e3f51858c96a",
       "version_major": 2,
       "version_minor": 0
      },
      "text/plain": [
       "interactive(children=(IntSlider(value=5, description='x', max=10), Checkbox(value=True, description='y'), Drop…"
      ]
     },
     "metadata": {},
     "output_type": "display_data"
    }
   ],
   "source": [
    "def three(x, y, z):\n",
    "    return (x, y, z)\n",
    "\n",
    "_ = widgets.interact(\n",
    "    three, \n",
    "    x=(0, 10, 1), \n",
    "    y=True, \n",
    "    z=['a', 'b', 'c']\n",
    ")"
   ]
  },
  {
   "cell_type": "markdown",
   "metadata": {},
   "source": [
    "Sometimes, not all arguments need to be linked to the widget. We can fix those using the `fixed` function. For example, fixing the `z` argument in `three` results in widgets for `x` and `y` only."
   ]
  },
  {
   "cell_type": "code",
   "execution_count": 5,
   "metadata": {
    "ExecuteTime": {
     "end_time": "2025-03-20T09:16:03.503610Z",
     "start_time": "2025-03-20T09:16:03.480802Z"
    }
   },
   "outputs": [
    {
     "data": {
      "application/vnd.jupyter.widget-view+json": {
       "model_id": "f6d17043e7164d84b63ada6db284716b",
       "version_major": 2,
       "version_minor": 0
      },
      "text/plain": [
       "interactive(children=(IntSlider(value=5, description='x', max=10), Checkbox(value=True, description='y'), Outp…"
      ]
     },
     "metadata": {},
     "output_type": "display_data"
    }
   ],
   "source": [
    "_ = widgets.interact(\n",
    "    three, \n",
    "    x=(0, 10, 1), \n",
    "    y=True, \n",
    "    z=widgets.fixed('I am fixed')\n",
    ")"
   ]
  },
  {
   "cell_type": "markdown",
   "metadata": {},
   "source": [
    "We can also use decorator syntax to create widgets with `interact`."
   ]
  },
  {
   "cell_type": "code",
   "execution_count": 6,
   "metadata": {
    "ExecuteTime": {
     "end_time": "2025-03-20T09:16:12.095095Z",
     "start_time": "2025-03-20T09:16:12.084762Z"
    }
   },
   "outputs": [
    {
     "data": {
      "application/vnd.jupyter.widget-view+json": {
       "model_id": "7c0bd4ed765c4da9916ed196a9d968db",
       "version_major": 2,
       "version_minor": 0
      },
      "text/plain": [
       "interactive(children=(IntSlider(value=5, description='x', max=10), Output()), _dom_classes=('widget-interact',…"
      ]
     },
     "metadata": {},
     "output_type": "display_data"
    }
   ],
   "source": [
    "@widgets.interact(x=(0, 10, 1))\n",
    "def foo(x):\n",
    "    \"\"\"\n",
    "    Print the current widget value in short sentence\n",
    "    \"\"\"\n",
    "    print(f'Slider says: {x}')"
   ]
  },
  {
   "cell_type": "markdown",
   "metadata": {},
   "source": [
    "\n",
    "## Putting widgets to use\n",
    "Making widgets and printing stuff is all good and well, but let's do something 'slightly' more useful and create a perfectly fake oscilloscope. For this, we use matplotlib to create a plot with a fixed vertical scale and a grid. Next, we generate some `x` values between 0 and 2pi and define a function to return the sine of `x` for some frequency `w`, amplitude `amp` and phase angle `phi`. \n",
    "\n",
    "Finally, we define an update function that takes three arguments: `w`, `amp` and `phi`, corresponding with the parameters controlling our sine. This function clears all existing lines from the ax object (if any) and then plots a our sine wave. Adding the interact decorator completes our beautiful interactive plot."
   ]
  },
  {
   "cell_type": "code",
   "execution_count": 7,
   "metadata": {
    "ExecuteTime": {
     "end_time": "2025-03-20T09:16:22.694668Z",
     "start_time": "2025-03-20T09:16:22.580229Z"
    }
   },
   "outputs": [
    {
     "data": {
      "application/vnd.jupyter.widget-view+json": {
       "model_id": "a69b5f09e19c411685852c9dde0f8602",
       "version_major": 2,
       "version_minor": 0
      },
      "text/plain": [
       "interactive(children=(IntSlider(value=1, description='w', max=10), FloatSlider(value=1.0, description='amp', m…"
      ]
     },
     "metadata": {},
     "output_type": "display_data"
    },
    {
     "data": {
      "application/vnd.jupyter.widget-view+json": {
       "model_id": "3b900ccfc2a744588e5ca93fd27cb183",
       "version_major": 2,
       "version_minor": 0
      },
      "image/png": "[encoded data removed]",
      "text/html": [
       "\n",
       "            <div style=\"display: inline-block;\">\n",
       "                <div class=\"jupyter-widgets widget-label\" style=\"text-align: center;\">\n",
       "                    Figure\n",
       "                </div>\n",
       "                <img src='data:image/png;base64,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' width=600.0/>\n",
       "            </div>\n",
       "        "
      ],
      "text/plain": [
       "Canvas(toolbar=Toolbar(toolitems=[('Home', 'Reset original view', 'home', 'home'), ('Back', 'Back to previous …"
      ]
     },
     "metadata": {},
     "output_type": "display_data"
    }
   ],
   "source": [
    "# set up plot\n",
    "fig, ax = plt.subplots(figsize=(6, 4))\n",
    "ax.set_ylim([-4, 4])\n",
    "ax.grid(True)\n",
    "\n",
    "# generate x values\n",
    "x = np.linspace(0, 2 * np.pi, 100)\n",
    "\n",
    "\n",
    "def my_sine(x, w, amp, phi):\n",
    "    \"\"\"\n",
    "    Return a sine for x with angular frequeny w and amplitude amp.\n",
    "    \"\"\"\n",
    "    return amp*np.sin(w * (x-phi))\n",
    "\n",
    "\n",
    "@widgets.interact(w=(0, 10, 1), amp=(0, 4, .1), phi=(0, 2*np.pi+0.01, 0.01))\n",
    "def update(w = 1.0, amp=1, phi=0):\n",
    "    \"\"\"Remove old lines from plot and plot new one\"\"\"\n",
    "    [l.remove() for l in ax.lines]\n",
    "    ax.plot(x, my_sine(x, w, amp, phi), color='C0')"
   ]
  },
  {
   "cell_type": "markdown",
   "metadata": {},
   "source": [
    "For more information on using `interact`, check the official [documentation](https://ipywidgets.readthedocs.io/en/latest/examples/Using%20Interact.html). In the next bit we'll use the widgets directly and stack them together to build larger apps."
   ]
  },
  {
   "cell_type": "markdown",
   "metadata": {},
   "source": [
    "# Widgets\n",
    "Often we will want to create widgets manually, for example to build larger interfaces with interconnected components. There are many widgets to choose from. The next cell shows a quick and dirty listing of all classes defined in the ipywidgets module. Not all of these are meant for everyday use, (e.g. DOMWidget and CoreWidgets), but most of them are immediately useful. The official list can be found [here](https://ipywidgets.readthedocs.io/en/latest/examples/Widget%20List.html)"
   ]
  },
  {
   "cell_type": "code",
   "execution_count": 8,
   "metadata": {
    "ExecuteTime": {
     "end_time": "2025-03-20T09:29:30.954013100Z",
     "start_time": "2025-03-20T09:16:59.691074Z"
    }
   },
   "outputs": [
    {
     "data": {
      "application/vnd.jupyter.widget-view+json": {
       "model_id": "e84d317e425d4aedb25ad8c58058fa89",
       "version_major": 2,
       "version_minor": 0
      },
      "text/plain": [
       "Textarea(value='Accordion\\nAppLayout\\nAudio\\nBoundedFloatText\\nBoundedIntText\\nBox\\nButton\\nButtonStyle\\nCallb…"
      ]
     },
     "execution_count": 8,
     "metadata": {},
     "output_type": "execute_result"
    }
   ],
   "source": [
    "widgets.Textarea(\n",
    "    '\\n'.join([w for w in dir(widgets) if not w.islower()]),\n",
    "    layout=widgets.Layout(height='200px')\n",
    ")"
   ]
  },
  {
   "cell_type": "markdown",
   "metadata": {},
   "source": [
    "## A few widget examples\n",
    "### Text\n",
    "The `Label` widget shows the value text as uneditable text. If more formatting is required, one can use an `HTML` widget. As the name implies this widget renders an html string. For editable text, there are the `Text` and `Textarea` widgets."
   ]
  },
  {
   "cell_type": "code",
   "execution_count": 9,
   "metadata": {
    "ExecuteTime": {
     "end_time": "2025-03-20T09:17:12.520759Z",
     "start_time": "2025-03-20T09:17:12.509960Z"
    }
   },
   "outputs": [
    {
     "data": {
      "application/vnd.jupyter.widget-view+json": {
       "model_id": "2a762ab1c634429380763c1df1ee0b48",
       "version_major": 2,
       "version_minor": 0
      },
      "text/plain": [
       "VBox(children=(Label(value='A label'), HTML(value='<b>Formatted</b> <font color=\"red\">html</font>'), Text(valu…"
      ]
     },
     "execution_count": 9,
     "metadata": {},
     "output_type": "execute_result"
    }
   ],
   "source": [
    "label = widgets.Label(\n",
    "    value='A label')\n",
    "\n",
    "html = widgets.HTML(\n",
    "    value='<b>Formatted</b> <font color=\"red\">html</font>', \n",
    "    description=''\n",
    ")\n",
    "\n",
    "text = widgets.Text(\n",
    "    value='A text field', \n",
    "    description='text field'\n",
    ")\n",
    "\n",
    "textarea = widgets.Textarea(\n",
    "    value='A text area for longer texts', \n",
    "    description='text area'\n",
    ")\n",
    "\n",
    "# show the three together in a VBox (vertical box container)\n",
    "widgets.VBox([label, html, text, textarea])"
   ]
  },
  {
   "cell_type": "markdown",
   "metadata": {},
   "source": [
    "### Selections\n",
    "The cell below shows a few common selection widgets, some of which we met before. The IntRangeSlider is like an IntSlider but as the name implies it allows the selection of an lower and upper bound of a range. RadioButtons allow the selection of single value from a list of options, similar to the dropdown list. Checkboxes are displayed a little different with their description on the right, but still indented. The indent can be removed by passing the argument `indent`=False\n",
    "\n",
    "A personal favourite is the combobox at the end, which starts showing a list of matching possibilities as one starts typing."
   ]
  },
  {
   "cell_type": "code",
   "execution_count": 10,
   "metadata": {
    "ExecuteTime": {
     "end_time": "2025-03-20T09:17:21.660415Z",
     "start_time": "2025-03-20T09:17:21.642615Z"
    }
   },
   "outputs": [
    {
     "data": {
      "application/vnd.jupyter.widget-view+json": {
       "model_id": "2584f808021f4ca3bce94f128814c2db",
       "version_major": 2,
       "version_minor": 0
      },
      "text/plain": [
       "VBox(children=(IntSlider(value=5, description='slider', max=10), IntRangeSlider(value=(20, 40), description='r…"
      ]
     },
     "execution_count": 10,
     "metadata": {},
     "output_type": "execute_result"
    }
   ],
   "source": [
    "int_slider = widgets.IntSlider(\n",
    "    value=5, \n",
    "    min=0, max=10, step=1, \n",
    "    description='slider'\n",
    ")\n",
    "\n",
    "int_range_slider = widgets.IntRangeSlider(\n",
    "    value=(20, 40), \n",
    "    min=0, max=100, step=2, \n",
    "    description='range slider'\n",
    ")\n",
    "\n",
    "dropdown = widgets.Dropdown(\n",
    "    value='feb', \n",
    "    options=['jan', 'feb', 'mar', 'apr'], \n",
    "    description='dropdown'\n",
    ")\n",
    "\n",
    "radiobuttons = widgets.RadioButtons(\n",
    "    value='feb', \n",
    "    options=['jan', 'feb', 'mar', 'apr'], \n",
    "    description='radio buttons'\n",
    ")\n",
    "\n",
    "combobox = widgets.Combobox(\n",
    "    placeholder='start typing... (e.g. L or o)',\n",
    "    options=['Amsterdam', 'Athens', 'Lisbon', 'London', 'Ljubljana'], \n",
    "    description='combo box'\n",
    ")\n",
    "\n",
    "checkbox = widgets.Checkbox(\n",
    "    description='checkbox',\n",
    "    value=True\n",
    ")\n",
    "\n",
    "\n",
    "# a VBox container to pack widgets vertically\n",
    "widgets.VBox(\n",
    "    [\n",
    "        int_slider, \n",
    "        int_range_slider, \n",
    "        dropdown, \n",
    "        radiobuttons,\n",
    "        checkbox,\n",
    "        combobox,\n",
    "    ]\n",
    ")"
   ]
  },
  {
   "cell_type": "markdown",
   "metadata": {},
   "source": [
    "As before, making and displaying widgets is great but putting them to work is awesome. Below, an example is shown of a similar application as above, a sine and a slider (just the one this time). This example shows how we can use the `observe` method to connect a function to a widget trait. `Traits` are special properties that come from a parent class called `HasTraits`. To look more into this, check out the [`traitlets`](https://traitlets.readthedocs.io/en/stable/) library.\n",
    "\n",
    "The `value` property of a widget is such a `trait`, meaning we can use `observe` to connect a callback function, which will get called every time `value` changes. The next cell shows an example, where the frequency of a sine is connected to a slider. \n",
    "Note the `continuous_update` option when creating the IntSlider. This option, also available in other widgets, makes sure the callback is only called when making changes is done (e.g. mousebutton release, enter), and not on every value traversed along the way."
   ]
  },
  {
   "cell_type": "code",
   "execution_count": 11,
   "metadata": {
    "ExecuteTime": {
     "end_time": "2025-03-20T09:18:05.329904Z",
     "start_time": "2025-03-20T09:18:05.227631Z"
    }
   },
   "outputs": [
    {
     "name": "stderr",
     "output_type": "stream",
     "text": [
      "<>:14: SyntaxWarning: invalid escape sequence '\\o'\n",
      "<>:14: SyntaxWarning: invalid escape sequence '\\o'\n",
      "C:\\Users\\dawid\\AppData\\Local\\Temp\\ipykernel_18104\\3613876816.py:14: SyntaxWarning: invalid escape sequence '\\o'\n",
      "  description='$\\omega$',\n"
     ]
    },
    {
     "data": {
      "application/vnd.jupyter.widget-view+json": {
       "model_id": "2d12cb4ad1954dcaa9776ee192408b7b",
       "version_major": 2,
       "version_minor": 0
      },
      "text/plain": [
       "IntSlider(value=1, continuous_update=False, description='$\\\\omega$', max=10)"
      ]
     },
     "execution_count": 11,
     "metadata": {},
     "output_type": "execute_result"
    },
    {
     "data": {
      "application/vnd.jupyter.widget-view+json": {
       "model_id": "e737a98cd7df446fa5754b6051f2d4d1",
       "version_major": 2,
       "version_minor": 0
      },
      "image/png": "[encoded data removed]",
      "text/html": [
       "\n",
       "            <div style=\"display: inline-block;\">\n",
       "                <div class=\"jupyter-widgets widget-label\" style=\"text-align: center;\">\n",
       "                    Figure\n",
       "                </div>\n",
       "                <img src='data:image/png;base64,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' width=640.0/>\n",
       "            </div>\n",
       "        "
      ],
      "text/plain": [
       "Canvas(toolbar=Toolbar(toolitems=[('Home', 'Reset original view', 'home', 'home'), ('Back', 'Back to previous …"
      ]
     },
     "metadata": {},
     "output_type": "display_data"
    }
   ],
   "source": [
    "x = np.linspace(0, 2 * np.pi, 100)\n",
    "\n",
    "fig, ax = plt.subplots()\n",
    "line, = ax.plot(x, np.sin(x))\n",
    "ax.grid(True)\n",
    "\n",
    "def update(change):\n",
    "    line.set_ydata(np.sin(change.new * x))\n",
    "    fig.canvas.draw()\n",
    "    \n",
    "int_slider = widgets.IntSlider(\n",
    "    value=1, \n",
    "    min=0, max=10, step=1,\n",
    "    description='$\\omega$',\n",
    "    continuous_update=False\n",
    ")\n",
    "int_slider.observe(update, 'value')\n",
    "int_slider"
   ]
  },
  {
   "cell_type": "markdown",
   "metadata": {},
   "source": [
    "When the value of the slider changes, the callback function is called with a single argument, change. The next cell shows a slider with a callback that only prints its input argument. As you can see, change is a dictionary-like object with several items:  \n",
    "    \n",
    "    'name': the name of the trait  \n",
    "    'old': the previous value of the trait  \n",
    "    'new': the current value of the trait  \n",
    "    'owner': the widget owning the trait (here, int_slider)"
   ]
  },
  {
   "cell_type": "code",
   "execution_count": 12,
   "metadata": {
    "ExecuteTime": {
     "end_time": "2025-03-20T09:18:28.464492Z",
     "start_time": "2025-03-20T09:18:28.456265Z"
    }
   },
   "outputs": [
    {
     "data": {
      "text/plain": [
       "{'name': 'value',\n",
       " 'old': 7,\n",
       " 'new': 6,\n",
       " 'owner': IntSlider(value=6, max=10),\n",
       " 'type': 'change'}"
      ]
     },
     "metadata": {},
     "output_type": "display_data"
    }
   ],
   "source": [
    "def show_change(change):\n",
    "    display(change)\n",
    "\n",
    "int_slider = widgets.IntSlider(value=7, min=0, max=10)\n",
    "int_slider.observe(show_change, 'value')\n",
    "int_slider.value = 6"
   ]
  },
  {
   "cell_type": "markdown",
   "metadata": {},
   "source": [
    "### Linking\n",
    "\n",
    "Widgets can also be linked together using the `link` function. This function takes two tuples of the form (widget, trait) and links the given traits of the given widgets. In the example below, `value` on the first slider is connected to `min` on the second. In this way when we change the value of the first, the minimum value of the second is updated correspondingly. There are also a `dlink` and `jslink` function doing a similar thing. `dlink` works one direction only, i.e. updating slider 1 would update slider 2 two, but not the other way around. `jslink` only works in the front-end, in javascript, and does not need a live ipykernel to work. ([docs](https://ipywidgets.readthedocs.io/en/stable/examples/Widget%20Events.html#Linking-Widgets))\n",
    "\n",
    "Below the two sliders are initialised with the same `min` and `max` values. However, after linking them together, updating the `value` of the first to 5, automatically updates `min` for the second as well."
   ]
  },
  {
   "cell_type": "code",
   "execution_count": 13,
   "metadata": {
    "ExecuteTime": {
     "end_time": "2025-03-20T09:18:33.760975Z",
     "start_time": "2025-03-20T09:18:33.753421Z"
    }
   },
   "outputs": [
    {
     "data": {
      "application/vnd.jupyter.widget-view+json": {
       "model_id": "6650a9475dc343b286b3ba2ea882adaa",
       "version_major": 2,
       "version_minor": 0
      },
      "text/plain": [
       "VBox(children=(IntSlider(value=5, description='slider 1', max=10), IntSlider(value=5, description='slider 2', …"
      ]
     },
     "execution_count": 13,
     "metadata": {},
     "output_type": "execute_result"
    }
   ],
   "source": [
    "sl1 = widgets.IntSlider(description='slider 1', min=0, max=10)\n",
    "sl2 = widgets.IntSlider(description='slider 2', min=0, max=10)\n",
    "\n",
    "link = widgets.link(\n",
    "    (sl1, 'value'), \n",
    "    (sl2, 'min')\n",
    ")\n",
    "\n",
    "sl1.value = 5\n",
    "widgets.VBox([sl1, sl2])"
   ]
  },
  {
   "cell_type": "markdown",
   "metadata": {},
   "source": [
    "links can be removed using the unlink method on the link object, `link.unlink()`"
   ]
  },
  {
   "cell_type": "markdown",
   "metadata": {},
   "source": [
    "### Layout widgets\n",
    "There are various ways organise widgets in an interface. We can use boxes, tabs, accordion, or a templated layout. Here, we will only look at boxes, to see the other options, please check [here](https://ipywidgets.readthedocs.io/en/latest/examples/Widget%20List.html#Container/Layout-widgets) and [here](https://ipywidgets.readthedocs.io/en/latest/examples/Layout%20Templates.html#). \n",
    "\n",
    "First, we create some buttons to play with."
   ]
  },
  {
   "cell_type": "code",
   "execution_count": 14,
   "metadata": {
    "ExecuteTime": {
     "end_time": "2025-03-20T09:19:13.676125Z",
     "start_time": "2025-03-20T09:19:13.664936Z"
    }
   },
   "outputs": [],
   "source": [
    "b1 = widgets.Button(description='button 1')\n",
    "b2 = widgets.Button(description='button 2')\n",
    "b3 = widgets.Button(description='button 3')"
   ]
  },
  {
   "cell_type": "markdown",
   "metadata": {},
   "source": [
    "Using `HBox` and `VBox` widgets we can easily present our buttons in a row or column layout."
   ]
  },
  {
   "cell_type": "code",
   "execution_count": 15,
   "metadata": {
    "ExecuteTime": {
     "end_time": "2025-03-20T09:19:16.165719Z",
     "start_time": "2025-03-20T09:19:16.159179Z"
    }
   },
   "outputs": [
    {
     "data": {
      "application/vnd.jupyter.widget-view+json": {
       "model_id": "2e6d8c84ec8843b4964a2dfd2913524f",
       "version_major": 2,
       "version_minor": 0
      },
      "text/plain": [
       "HBox(children=(Button(description='button 1', style=ButtonStyle()), Button(description='button 2', style=Butto…"
      ]
     },
     "execution_count": 15,
     "metadata": {},
     "output_type": "execute_result"
    }
   ],
   "source": [
    "widgets.HBox([b1, b2, b3])"
   ]
  },
  {
   "cell_type": "code",
   "execution_count": 16,
   "metadata": {
    "ExecuteTime": {
     "end_time": "2025-03-20T09:19:17.349288Z",
     "start_time": "2025-03-20T09:19:17.343823Z"
    }
   },
   "outputs": [
    {
     "data": {
      "application/vnd.jupyter.widget-view+json": {
       "model_id": "c030a696c8cf490aadb7f9c28d6a9113",
       "version_major": 2,
       "version_minor": 0
      },
      "text/plain": [
       "VBox(children=(Button(description='button 1', style=ButtonStyle()), Button(description='button 2', style=Butto…"
      ]
     },
     "execution_count": 16,
     "metadata": {},
     "output_type": "execute_result"
    }
   ],
   "source": [
    "widgets.VBox([b1, b2, b3])"
   ]
  },
  {
   "cell_type": "markdown",
   "metadata": {},
   "source": [
    "These boxes can also be nested to create more complicated layouts. Below, we create two VBoxes. One containing buttons and another containing a dropdown and some radiobuttons. Then we put the VBoxes themselves into an HBox to lay them out next to one another. "
   ]
  },
  {
   "cell_type": "code",
   "execution_count": 17,
   "metadata": {
    "ExecuteTime": {
     "end_time": "2025-03-20T09:19:20.426198Z",
     "start_time": "2025-03-20T09:19:20.412716Z"
    }
   },
   "outputs": [
    {
     "data": {
      "application/vnd.jupyter.widget-view+json": {
       "model_id": "0c414831eb2c4c3abc52e6fb455bd3d1",
       "version_major": 2,
       "version_minor": 0
      },
      "text/plain": [
       "HBox(children=(VBox(children=(Label(value='Left'), Button(description='button 1', style=ButtonStyle()), Button…"
      ]
     },
     "execution_count": 17,
     "metadata": {},
     "output_type": "execute_result"
    }
   ],
   "source": [
    "def make_boxes():\n",
    "    vbox1 = widgets.VBox([widgets.Label('Left'), b1, b2])\n",
    "    vbox2 = widgets.VBox([widgets.Label('Right'), dropdown, radiobuttons])\n",
    "    return vbox1, vbox2\n",
    "\n",
    "vbox1, vbox2 = make_boxes()\n",
    "\n",
    "widgets.HBox([vbox1, vbox2])"
   ]
  },
  {
   "cell_type": "markdown",
   "metadata": {},
   "source": [
    "To make the left and right boxes more visible we add some layout through the `Layout` widget. Note that the syntax for setting layout parameters resembles css. For our box layout we add a solid, 1px thick red border. In addition we add some space in te form of a margin (spacing to other widgets) and padding (spacing between border and widgets inside). Instead of having a margin-top, margin-left and so on, the margin and padding are given as a single string with the values in the order of top, right, bottom & left. "
   ]
  },
  {
   "cell_type": "code",
   "execution_count": 18,
   "metadata": {
    "ExecuteTime": {
     "end_time": "2025-03-20T09:19:26.589656Z",
     "start_time": "2025-03-20T09:19:26.578939Z"
    }
   },
   "outputs": [
    {
     "data": {
      "application/vnd.jupyter.widget-view+json": {
       "model_id": "da0d053051244c84987b7bac042e49c6",
       "version_major": 2,
       "version_minor": 0
      },
      "text/plain": [
       "HBox(children=(VBox(children=(Label(value='Left'), Button(description='button 1', style=ButtonStyle()), Button…"
      ]
     },
     "execution_count": 18,
     "metadata": {},
     "output_type": "execute_result"
    }
   ],
   "source": [
    "box_layout = widgets.Layout(\n",
    "        border='solid 1px red',\n",
    "        margin='0px 10px 10px 0px',\n",
    "        padding='5px 5px 5px 5px')\n",
    "\n",
    "vbox1, vbox2 = make_boxes()\n",
    "\n",
    "vbox1.layout = box_layout\n",
    "vbox2.layout = box_layout\n",
    "\n",
    "widgets.HBox([vbox1, vbox2])"
   ]
  },
  {
   "cell_type": "markdown",
   "metadata": {},
   "source": [
    "This code can have some suprising behaviour. The `Layout` object is mutable and two boxes share a single instance. Hence, making changes to the layout of box1 will also be reflected in box2. For example, see what happens when we change the width and colour of vbox1. "
   ]
  },
  {
   "cell_type": "code",
   "execution_count": 19,
   "metadata": {
    "ExecuteTime": {
     "end_time": "2025-03-20T09:19:33.696362Z",
     "start_time": "2025-03-20T09:19:33.684266Z"
    }
   },
   "outputs": [
    {
     "data": {
      "application/vnd.jupyter.widget-view+json": {
       "model_id": "71a1a04e1cfc4f8c83cdffd6817e5263",
       "version_major": 2,
       "version_minor": 0
      },
      "text/plain": [
       "HBox(children=(VBox(children=(Label(value='Left'), Button(description='button 1', style=ButtonStyle()), Button…"
      ]
     },
     "execution_count": 19,
     "metadata": {},
     "output_type": "execute_result"
    }
   ],
   "source": [
    "box_layout = widgets.Layout(\n",
    "        border='solid 1px red',\n",
    "        margin='0px 10px 10px 0px',\n",
    "        padding='5px 5px 5px 5px')\n",
    "\n",
    "vbox1, vbox2 = make_boxes()\n",
    "\n",
    "vbox1.layout = box_layout\n",
    "vbox2.layout = box_layout\n",
    "\n",
    "# change vbox1 only?\n",
    "vbox1.layout.width = '400px'\n",
    "vbox1.layout.border = 'solid 2px green'\n",
    "\n",
    "widgets.HBox([vbox1, vbox2])"
   ]
  },
  {
   "cell_type": "markdown",
   "metadata": {},
   "source": [
    "A simple workaround is to put the layout in a function that returns a freshly created instance so that every widget gets its very own layout object. Then, when making changes to vbox1, vbox2 will not change. \n"
   ]
  },
  {
   "cell_type": "code",
   "execution_count": 20,
   "metadata": {
    "ExecuteTime": {
     "end_time": "2025-03-20T09:19:39.059330Z",
     "start_time": "2025-03-20T09:19:39.035981Z"
    }
   },
   "outputs": [
    {
     "data": {
      "application/vnd.jupyter.widget-view+json": {
       "model_id": "f2dfecd4d60942279bbdb9c4f14dae41",
       "version_major": 2,
       "version_minor": 0
      },
      "text/plain": [
       "HBox(children=(VBox(children=(Label(value='Left'), Button(description='button 1', style=ButtonStyle()), Button…"
      ]
     },
     "execution_count": 20,
     "metadata": {},
     "output_type": "execute_result"
    }
   ],
   "source": [
    "def make_box_layout():\n",
    "     return widgets.Layout(\n",
    "        border='solid 1px red',\n",
    "        margin='0px 10px 10px 0px',\n",
    "        padding='5px 5px 5px 5px'\n",
    "     )\n",
    "    \n",
    "vbox1, vbox2 = make_boxes()\n",
    "\n",
    "vbox1.layout = make_box_layout()\n",
    "vbox2.layout = make_box_layout()\n",
    "\n",
    "# really change vbox1 only\n",
    "vbox1.layout.width = '400px'\n",
    "vbox1.layout.border = 'solid 2px green'\n",
    "\n",
    "widgets.HBox([vbox1, vbox2])"
   ]
  },
  {
   "cell_type": "markdown",
   "metadata": {},
   "source": [
    "As mentioned at the start of this section, there are other options to design more advanced applications. An interesting alternative is the `AppLayout` widget, which facilitates building a classic application layout using a column layout sandwiched between a header and footer. Head over to the offical ([docs](https://ipywidgets.readthedocs.io/en/latest/examples/Layout%20Templates.html#AppLayout)) for some examples.."
   ]
  },
  {
   "cell_type": "markdown",
   "metadata": {},
   "source": [
    "## Putting widgets to use\n",
    "In the next bit we put it all together and build a simple application. We will create a matplotlib figure again, but this time inside an `Output` widget. `Output` can take all kinds of input and display the notebook. By creating the figure inside the output context it will not be drawn until the output widget is used. We can also display the same figure in multiple places, which is sometimes useful in larger applications."
   ]
  },
  {
   "cell_type": "code",
   "execution_count": 21,
   "metadata": {
    "ExecuteTime": {
     "end_time": "2025-03-20T09:20:26.947568Z",
     "start_time": "2025-03-20T09:20:26.839994Z"
    }
   },
   "outputs": [
    {
     "data": {
      "application/vnd.jupyter.widget-view+json": {
       "model_id": "c3bfd306636845be9ffa51272f871476",
       "version_major": 2,
       "version_minor": 0
      },
      "image/png": "[encoded data removed]",
      "text/html": [
       "\n",
       "            <div style=\"display: inline-block;\">\n",
       "                <div class=\"jupyter-widgets widget-label\" style=\"text-align: center;\">\n",
       "                    Figure\n",
       "                </div>\n",
       "                <img src='data:image/png;base64,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' width=600.0/>\n",
       "            </div>\n",
       "        "
      ],
      "text/plain": [
       "Canvas(toolbar=Toolbar(toolitems=[('Home', 'Reset original view', 'home', 'home'), ('Back', 'Back to previous …"
      ]
     },
     "metadata": {},
     "output_type": "display_data"
    }
   ],
   "source": [
    "output = widgets.Output()\n",
    "\n",
    "# create some x data\n",
    "x = np.linspace(0, 2 * np.pi, 100)\n",
    "\n",
    "# default line color\n",
    "initial_color = '#FF00DD'\n",
    "\n",
    "with output:\n",
    "    fig, ax = plt.subplots(constrained_layout=True, figsize=(6, 4))\n",
    "    \n",
    "# move the toolbar to the bottom\n",
    "fig.canvas.toolbar_position = 'bottom'\n",
    "ax.grid(True)    \n",
    "line, = ax.plot(x, np.sin(x), initial_color)"
   ]
  },
  {
   "cell_type": "markdown",
   "metadata": {},
   "source": [
    "No figure is shown yet, until we use the output widget"
   ]
  },
  {
   "cell_type": "code",
   "execution_count": 22,
   "metadata": {
    "ExecuteTime": {
     "end_time": "2025-03-20T09:20:24.994479Z",
     "start_time": "2025-03-20T09:20:24.988783Z"
    }
   },
   "outputs": [
    {
     "data": {
      "application/vnd.jupyter.widget-view+json": {
       "model_id": "4811b02522d74ab3b9aec33e4d5516f1",
       "version_major": 2,
       "version_minor": 0
      },
      "text/plain": [
       "Output()"
      ]
     },
     "execution_count": 22,
     "metadata": {},
     "output_type": "execute_result"
    }
   ],
   "source": [
    "output"
   ]
  },
  {
   "cell_type": "markdown",
   "metadata": {},
   "source": [
    "Note that we used the `constrained_layout`, when creating the figure. This is similar to the figure's `tight_layout` method, and makes space for the axis labels. However, `constrained_layout` is more convenient in combination with the widget matplotlib backend, as it can be applied before the figure is rendered. With tight_layout we would first have to show the figure and then call the method to make everything fit. It is an experimental feature though, so use with care ['constrained_layout'](https://matplotlib.org/3.1.1/tutorials/intermediate/constrainedlayout_guide.html)\n",
    "\n",
    "Next, we create control widgets with their callback functions and connect them. After getting the callbacks in place we set the default values for the labels through their corresponding widgets."
   ]
  },
  {
   "cell_type": "code",
   "execution_count": 23,
   "metadata": {
    "ExecuteTime": {
     "end_time": "2025-03-20T09:19:57.459610Z",
     "start_time": "2025-03-20T09:19:57.443410Z"
    }
   },
   "outputs": [],
   "source": [
    "# create some control elements\n",
    "int_slider = widgets.IntSlider(value=1, min=0, max=10, step=1, description='freq')\n",
    "color_picker = widgets.ColorPicker(value=initial_color, description='pick a color')\n",
    "text_xlabel = widgets.Text(value='', description='xlabel', continuous_update=False)\n",
    "text_ylabel = widgets.Text(value='', description='ylabel', continuous_update=False)\n",
    "\n",
    "# callback functions\n",
    "def update(change):\n",
    "    \"\"\"redraw line (update plot)\"\"\"\n",
    "    line.set_ydata(np.sin(change.new * x))\n",
    "    fig.canvas.draw()\n",
    "    \n",
    "def line_color(change):\n",
    "    \"\"\"set line color\"\"\"\n",
    "    line.set_color(change.new)\n",
    "    \n",
    "def update_xlabel(change):\n",
    "    ax.set_xlabel(change.new)\n",
    "    \n",
    "def update_ylabel(change):\n",
    "    ax.set_ylabel(change.new)\n",
    "\n",
    "# connect callbacks and traits\n",
    "int_slider.observe(update, 'value')\n",
    "color_picker.observe(line_color, 'value')\n",
    "text_xlabel.observe(update_xlabel, 'value')\n",
    "text_ylabel.observe(update_ylabel, 'value')\n",
    "\n",
    "text_xlabel.value = 'x'\n",
    "text_ylabel.value = 'y'"
   ]
  },
  {
   "cell_type": "markdown",
   "metadata": {},
   "source": [
    "Finally, we box everything up and display evertyhing together."
   ]
  },
  {
   "cell_type": "code",
   "execution_count": 24,
   "metadata": {
    "ExecuteTime": {
     "end_time": "2025-03-20T09:20:00.223811Z",
     "start_time": "2025-03-20T09:20:00.211256Z"
    }
   },
   "outputs": [
    {
     "data": {
      "application/vnd.jupyter.widget-view+json": {
       "model_id": "c63681d3544942ca9838b2ea88fff1f2",
       "version_major": 2,
       "version_minor": 0
      },
      "text/plain": [
       "HBox(children=(VBox(children=(IntSlider(value=1, description='freq', max=10), ColorPicker(value='#FF00DD', des…"
      ]
     },
     "execution_count": 24,
     "metadata": {},
     "output_type": "execute_result"
    }
   ],
   "source": [
    "controls = widgets.VBox([int_slider, color_picker, text_xlabel, text_ylabel])\n",
    "widgets.HBox([controls, output])"
   ]
  },
  {
   "cell_type": "markdown",
   "metadata": {},
   "source": [
    "## Packing components in a class\n",
    "To create more high level components, we can also subclass a container and build up our gui from within. Containers have a `children` property to which we can assign a list of widgets that should be displayed. Although, we can assign a list, this is turned into a tuple and cannot be modified afterwards.\n",
    "To remove or add a widget at runtime, the children tuple can be turned back into a list, followed by an insert or deletion and finalised by reassigning to the children property. Since it can be easy to make mistakes when going by index, I tend to add a placeholder box in which I only place the 'dynamic' widget.\n",
    "\n",
    "The example below, packs the entire oscilliscope 'dashboard' in a single component by subclassing `VBox`. All the required widgets are defined in the Sines class and added as its `children`. The callbacks are defined as instance methods. It may not be a masterpiece in object oriented programming, but hopefully it shows the idea of constructing larger reusable components. Note that, we need to call `super().__init__()` from `__init__` to properly initialise the parent class. "
   ]
  },
  {
   "cell_type": "code",
   "execution_count": 25,
   "metadata": {
    "ExecuteTime": {
     "end_time": "2025-03-20T09:20:38.965441Z",
     "start_time": "2025-03-20T09:20:38.781165Z"
    }
   },
   "outputs": [
    {
     "data": {
      "application/vnd.jupyter.widget-view+json": {
       "model_id": "0096abb5552d4919952b1ae698a0b5f1",
       "version_major": 2,
       "version_minor": 0
      },
      "text/plain": [
       "Sines(children=(VBox(children=(IntSlider(value=1, description='freq', max=10), ColorPicker(value='#FF00DD', de…"
      ]
     },
     "execution_count": 25,
     "metadata": {},
     "output_type": "execute_result"
    },
    {
     "data": {
      "application/vnd.jupyter.widget-view+json": {
       "model_id": "9447ec422e32454ea74486cb4513d762",
       "version_major": 2,
       "version_minor": 0
      },
      "image/png": "[encoded data removed]",
      "text/html": [
       "\n",
       "            <div style=\"display: inline-block;\">\n",
       "                <div class=\"jupyter-widgets widget-label\" style=\"text-align: center;\">\n",
       "                    Figure\n",
       "                </div>\n",
       "                <img src='data:image/png;base64,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' width=500.0/>\n",
       "            </div>\n",
       "        "
      ],
      "text/plain": [
       "Canvas(toolbar=Toolbar(toolitems=[('Home', 'Reset original view', 'home', 'home'), ('Back', 'Back to previous …"
      ]
     },
     "metadata": {},
     "output_type": "display_data"
    }
   ],
   "source": [
    "def make_box_layout():\n",
    "     return widgets.Layout(\n",
    "        border='solid 1px black',\n",
    "        margin='0px 10px 10px 0px',\n",
    "        padding='5px 5px 5px 5px'\n",
    "     )\n",
    "\n",
    "class Sines(widgets.HBox):\n",
    "    \n",
    "    def __init__(self):\n",
    "        super().__init__()\n",
    "        output = widgets.Output()\n",
    "\n",
    "        self.x = np.linspace(0, 2 * np.pi, 100)\n",
    "        initial_color = '#FF00DD'\n",
    "\n",
    "        with output:\n",
    "            self.fig, self.ax = plt.subplots(constrained_layout=True, figsize=(5, 3.5))\n",
    "        self.line, = self.ax.plot(self.x, np.sin(self.x), initial_color)\n",
    "        \n",
    "        self.fig.canvas.toolbar_position = 'bottom'\n",
    "        self.ax.grid(True)\n",
    "\n",
    "        # define widgets\n",
    "        int_slider = widgets.IntSlider(\n",
    "            value=1, \n",
    "            min=0, \n",
    "            max=10, \n",
    "            step=1, \n",
    "            description='freq'\n",
    "        )\n",
    "        color_picker = widgets.ColorPicker(\n",
    "            value=initial_color, \n",
    "            description='pick a color'\n",
    "        )\n",
    "        text_xlabel = widgets.Text(\n",
    "            value='', \n",
    "            description='xlabel', \n",
    "            continuous_update=False\n",
    "        )\n",
    "        text_ylabel = widgets.Text(\n",
    "            value='', \n",
    "            description='ylabel', \n",
    "            continuous_update=False\n",
    "        )\n",
    "\n",
    "        controls = widgets.VBox([\n",
    "            int_slider, \n",
    "            color_picker, \n",
    "            text_xlabel, \n",
    "            text_ylabel\n",
    "        ])\n",
    "        controls.layout = make_box_layout()\n",
    "        \n",
    "        out_box = widgets.Box([output])\n",
    "        output.layout = make_box_layout()\n",
    "\n",
    "        # observe stuff\n",
    "        int_slider.observe(self.update, 'value')\n",
    "        color_picker.observe(self.line_color, 'value')\n",
    "        text_xlabel.observe(self.update_xlabel, 'value')\n",
    "        text_ylabel.observe(self.update_ylabel, 'value')\n",
    "        \n",
    "        text_xlabel.value = 'x'\n",
    "        text_ylabel.value = 'y'\n",
    "        \n",
    "\n",
    "        # add to children\n",
    "        self.children = [controls, output]\n",
    "    \n",
    "    def update(self, change):\n",
    "        \"\"\"Draw line in plot\"\"\"\n",
    "        self.line.set_ydata(np.sin(change.new * self.x))\n",
    "        self.fig.canvas.draw()\n",
    "\n",
    "    def line_color(self, change):\n",
    "        self.line.set_color(change.new)\n",
    "\n",
    "    def update_xlabel(self, change):\n",
    "        self.ax.set_xlabel(change.new)\n",
    "\n",
    "    def update_ylabel(self, change):\n",
    "        self.ax.set_ylabel(change.new)\n",
    "        \n",
    "        \n",
    "Sines()"
   ]
  },
  {
   "cell_type": "markdown",
   "metadata": {},
   "source": [
    "There is a lot more to ipywidgets than was presented here. A good first start are the official [ipywidgets](https://ipywidgets.readthedocs.io/en/stable/) and [traitlets](https://traitlets.readthedocs.io/en/stable/) docs. There is a lot of active development, so it is always interesting to check for updates. There is also a lot of ongoing work on `ipympl`, so staying up to date is a good idea when using it.\n",
    "\n",
    "Two other project that I would like to mention are Voila and ipyvuetify. The [Voila](https://github.com/voila-dashboards/voila) project makes it possible to present a notebook as an interactive web application with a live kernel. [Ipyvuetify](https://github.com/mariobuikhuizen/ipyvuetify) provides a great set of widgets based on vuetify (example in [binder](https://mybinder.org/v2/gh/mariobuikhuizen/ipyvuetify/master?filepath=examples%2FExamples%20template.ipynb))."
   ]
  },
  {
   "cell_type": "code",
   "execution_count": 45,
   "metadata": {},
   "outputs": [
    {
     "data": {
      "application/vnd.jupyter.widget-view+json": {
       "model_id": "329b62dd807f4ad7a5a2f883976f6952",
       "version_major": 2,
       "version_minor": 0
      },
      "text/plain": [
       "VBox(children=(Dropdown(description='Kategoria:', options=('Engineering', 'Business', 'Physical Sciences', 'La…"
      ]
     },
     "execution_count": 45,
     "metadata": {},
     "output_type": "execute_result"
    }
   ],
   "source": [
    "import pandas as pd\n",
    "# Wczytanie danych\n",
    "data = pd.read_csv(\"data/recent-grads.csv\")\n",
    "# Skracanie nazw kategorii do X znaków\n",
    "data[\"Major\"] = data[\"Major\"].apply(lambda x: x[:15] + \"…\" if len(x) > 15 else x)\n",
    "\n",
    "# Tworzenie widgetów\n",
    "category_widget = widgets.Dropdown(\n",
    "    options=data[\"Major_category\"].unique(),\n",
    "    description=\"Kategoria:\",\n",
    "    continuous_update=False\n",
    ")\n",
    "\n",
    "color_men_widget = widgets.ColorPicker(\n",
    "    value='blue',\n",
    "    description=\"Kolor M:\",\n",
    "    continuous_update=False\n",
    ")\n",
    "\n",
    "color_women_widget = widgets.ColorPicker(\n",
    "    value='pink',\n",
    "    description=\"Kolor K:\",\n",
    "    continuous_update=False\n",
    ")\n",
    "\n",
    "sort_column_widget = widgets.Dropdown(\n",
    "    options=[\"Men\", \"Women\", \"Employed\", \"Unemployment_rate\", \"Median\", \"Low_wage_jobs\"],\n",
    "    description=\"Sortuj po:\",\n",
    "    continuous_update=False\n",
    ")\n",
    "\n",
    "sort_order_widget = widgets.Checkbox(\n",
    "    value=False,\n",
    "    description=\"Malejąco\"\n",
    ")\n",
    "\n",
    "top_n_widget = widgets.IntSlider(\n",
    "    min=5, max=20, step=1, value=10,\n",
    "    description=\"Top N:\"\n",
    ")\n",
    "\n",
    "style_widget = widgets.Dropdown(\n",
    "    options=plt.style.available,\n",
    "    description=\"Styl wykresu:\",\n",
    "    continuous_update=False\n",
    ")\n",
    "\n",
    "chart_type_widget = widgets.RadioButtons(\n",
    "    options=['bar', 'line'],\n",
    "    description=\"Typ wykresu:\"\n",
    ")\n",
    "\n",
    "# Tworzenie interaktywnej funkcji\n",
    "def update_plot(category, color_men, color_women, sort_column, sort_order, top_n, style, chart_type):\n",
    "    plt.style.use(style)  # Ustawienie stylu\n",
    "    \n",
    "    filtered_data = data[data[\"Major_category\"] == category]\n",
    "    \n",
    "    # Sortowanie i wybór top N\n",
    "    filtered_data = filtered_data.sort_values(by=sort_column, ascending=not sort_order).head(top_n)\n",
    "    \n",
    "    fig, ax = plt.subplots(figsize=(10, 6))\n",
    "    x = np.arange(len(filtered_data))  # Pozycje dla słupków\n",
    "    \n",
    "    if chart_type == 'bar':\n",
    "        width = 0.4\n",
    "        bars1 = ax.bar(x - width/2, filtered_data[\"Men\"], width, label=\"Mężczyźni\", color=color_men)\n",
    "        bars2 = ax.bar(x + width/2, filtered_data[\"Women\"], width, label=\"Kobiety\", color=color_women)\n",
    "        \n",
    "        # Dodanie wartości nad słupkami\n",
    "        for bar in bars1 + bars2:\n",
    "            height = bar.get_height()\n",
    "            ax.text(bar.get_x() + bar.get_width() / 2, height, f'{int(height)}', ha='center', va='bottom', fontsize=10)\n",
    "    \n",
    "    elif chart_type == 'line':\n",
    "        ax.plot(filtered_data[\"Major\"], filtered_data[\"Men\"], marker='o', label=\"Mężczyźni\", color=color_men)\n",
    "        ax.plot(filtered_data[\"Major\"], filtered_data[\"Women\"], marker='s', label=\"Kobiety\", color=color_women)\n",
    "\n",
    "    ax.set_xticks(x)\n",
    "    ax.set_xticklabels(filtered_data[\"Major\"], rotation=45, ha='right')\n",
    "    ax.set_ylabel(\"Liczba osób\")\n",
    "    ax.set_title(f\"Podział na płeć w kategorii {category} (sortowanie: {sort_column})\")\n",
    "    ax.legend()\n",
    "    \n",
    "    plt.tight_layout()\n",
    "    plt.show()\n",
    "\n",
    "# Interaktywny widżet\n",
    "widgets.VBox([\n",
    "    category_widget, \n",
    "    color_men_widget, \n",
    "    color_women_widget, \n",
    "    sort_column_widget, \n",
    "    sort_order_widget, \n",
    "    top_n_widget, \n",
    "    style_widget, \n",
    "    chart_type_widget, \n",
    "    widgets.interactive_output(update_plot, {\n",
    "        'category': category_widget, \n",
    "        'color_men': color_men_widget, \n",
    "        'color_women': color_women_widget, \n",
    "        'sort_column': sort_column_widget, \n",
    "        'sort_order': sort_order_widget, \n",
    "        'top_n': top_n_widget, \n",
    "        'style': style_widget,\n",
    "        'chart_type': chart_type_widget\n",
    "    })\n",
    "])\n"
   ]
  },
  {
   "cell_type": "code",
   "execution_count": null,
   "metadata": {},
   "outputs": [],
   "source": []
  }
 ],
 "metadata": {
  "kernelspec": {
   "display_name": "Python 3 (ipykernel)",
   "language": "python",
   "name": "python3"
  },
  "language_info": {
   "codemirror_mode": {
    "name": "ipython",
    "version": 3
   },
   "file_extension": ".py",
   "mimetype": "text/x-python",
   "name": "python",
   "nbconvert_exporter": "python",
   "pygments_lexer": "ipython3",
   "version": "3.12.6"
  }
 },
 "nbformat": 4,
 "nbformat_minor": 4
}
